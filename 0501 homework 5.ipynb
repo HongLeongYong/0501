{
 "cells": [
  {
   "cell_type": "code",
   "execution_count": 2,
   "metadata": {},
   "outputs": [
    {
     "name": "stdout",
     "output_type": "stream",
     "text": [
      "Please input a number:50\n",
      "What do you want to do(+,-,*,/)or exit(n):+\n",
      "Please input a number:2\n",
      "52\n",
      "What do you want to do(+,-,*,/)or exit(n):-\n",
      "Please input a number:2\n",
      "50\n",
      "What do you want to do(+,-,*,/)or exit(n):*\n",
      "Please input a number:2\n",
      "100\n",
      "What do you want to do(+,-,*,/)or exit(n):/\n",
      "Please input a number:2\n",
      "50.0\n",
      "What do you want to do(+,-,*,/)or exit(n):u\n",
      "please input the correct what you doing!\n",
      "What do you want to do(+,-,*,/)or exit(n):n\n",
      "Already stop\n"
     ]
    }
   ],
   "source": [
    "def plus(*args):\n",
    "    return(sum(args))\n",
    "\n",
    "def minus(arg1,arg2):\n",
    "    return(arg1-arg2)\n",
    "    \n",
    "def multi(arg1,arg2):\n",
    "    return(arg1*arg2)\n",
    "    \n",
    "def div(arg1,arg2):\n",
    "    return(arg1/arg2)\n",
    "    \n",
    "x = int(input(\"Please input a number:\"))    \n",
    "while True:    \n",
    "    z = input(\"What do you want to do(+,-,*,/)or exit(n):\")\n",
    "    y = 0\n",
    "\n",
    "    if z == \"+\":\n",
    "        y = int(input(\"Please input a number:\" ))\n",
    "        x = plus(x,y)\n",
    "        print(x)\n",
    "    elif z ==\"-\":\n",
    "        y = int(input(\"Please input a number:\" ))\n",
    "        x= minus(x,y)\n",
    "        print(x)\n",
    "    elif z ==\"*\":\n",
    "        y = int(input(\"Please input a number:\" ))\n",
    "        x= multi(x,y)\n",
    "        print(x)\n",
    "    elif z ==\"/\":\n",
    "        y = int(input(\"Please input a number:\" ))\n",
    "        x = div(x,y)\n",
    "        print(x)\n",
    "    elif z ==\"n\" or z == \"N\":\n",
    "        break\n",
    "    else:\n",
    "        print(\"please input the correct what you doing!\")\n",
    "\n",
    "print(\"Already stop\")\n"
   ]
  },
  {
   "cell_type": "code",
   "execution_count": null,
   "metadata": {},
   "outputs": [],
   "source": []
  },
  {
   "cell_type": "code",
   "execution_count": null,
   "metadata": {},
   "outputs": [],
   "source": []
  }
 ],
 "metadata": {
  "kernelspec": {
   "display_name": "Python 3",
   "language": "python",
   "name": "python3"
  },
  "language_info": {
   "codemirror_mode": {
    "name": "ipython",
    "version": 3
   },
   "file_extension": ".py",
   "mimetype": "text/x-python",
   "name": "python",
   "nbconvert_exporter": "python",
   "pygments_lexer": "ipython3",
   "version": "3.7.3"
  }
 },
 "nbformat": 4,
 "nbformat_minor": 2
}
